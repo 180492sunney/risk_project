{
 "cells": [
  {
   "cell_type": "code",
   "execution_count": 2,
   "metadata": {},
   "outputs": [],
   "source": [
    "import pandas as pd"
   ]
  },
  {
   "cell_type": "markdown",
   "metadata": {},
   "source": [
    "# Data Reading"
   ]
  },
  {
   "cell_type": "code",
   "execution_count": 23,
   "metadata": {},
   "outputs": [],
   "source": [
    "d1 = pd.read_csv(\"LendingClub_website/LoanStats3a_securev1.csv\",header=1)\n",
    "d2 = pd.read_csv(\"LendingClub_website/LoanStats3b_securev1.csv\",header=1)\n",
    "d3 = pd.read_csv(\"LendingClub_website/LoanStats3c_securev1.csv\",header=1)\n",
    "d4 = pd.read_csv(\"LendingClub_website/LoanStats3d_securev1.csv\",header=1)\n",
    "d5 = pd.read_csv(\"LendingClub_website/LoanStats_securev1_2016Q1.csv\",header=1)\n",
    "d6 = pd.read_csv(\"LendingClub_website/LoanStats_securev1_2016Q2.csv\",header=1)\n",
    "d7 = pd.read_csv(\"LendingClub_website/LoanStats_securev1_2016Q3.csv\",header=1)\n",
    "d8 = pd.read_csv(\"LendingClub_website/LoanStats_securev1_2016Q4.csv\",header=1)\n",
    "d9 = pd.read_csv(\"LendingClub_website/LoanStats_securev1_2017Q1.csv\",header=1)\n",
    "d10 = pd.read_csv(\"LendingClub_website/LoanStats_securev1_2017Q2.csv\",header=1)\n",
    "d11 = pd.read_csv(\"LendingClub_website/LoanStats_securev1_2017Q3.csv\",header=1)\n",
    "d12 = pd.read_csv(\"LendingClub_website/LoanStats_securev1_2017Q4.csv\",header=1)\n",
    "d13 = pd.read_csv(\"LendingClub_website/LoanStats_securev1_2018Q1.csv\",header=1)\n",
    "d14 = pd.read_csv(\"LendingClub_website/LoanStats_securev1_2018Q2.csv\",header=1)\n",
    "d15 = pd.read_csv(\"LendingClub_website/LoanStats_securev1_2018Q3.csv\",header=1)\n",
    "d16 = pd.read_csv(\"LendingClub_website/LoanStats_securev1_2018Q4.csv\",header=1)\n",
    "d17 = pd.read_csv(\"LendingClub_website/LoanStats_securev1_2019Q1.csv\",header=1)\n",
    "d18 = pd.read_csv(\"LendingClub_website/LoanStats_securev1_2019Q2.csv\",header=1)\n",
    "loan_data = pd.concat([d1,d2,d3,d4,d5,d6,d7,d8,d9,d10,d11,d12,d13,d14,d15,d16,d17,d18])"
   ]
  },
  {
   "cell_type": "code",
   "execution_count": 24,
   "metadata": {},
   "outputs": [
    {
     "data": {
      "text/plain": [
       "(2507519, 150)"
      ]
     },
     "execution_count": 24,
     "metadata": {},
     "output_type": "execute_result"
    }
   ],
   "source": [
    "loan_data.shape"
   ]
  },
  {
   "cell_type": "code",
   "execution_count": 26,
   "metadata": {},
   "outputs": [],
   "source": [
    "loan_data.to_csv(\"LendingClub_website/combined_data.csv\")"
   ]
  },
  {
   "cell_type": "code",
   "execution_count": null,
   "metadata": {},
   "outputs": [],
   "source": []
  }
 ],
 "metadata": {
  "kernelspec": {
   "display_name": "Python 3",
   "language": "python",
   "name": "python3"
  },
  "language_info": {
   "codemirror_mode": {
    "name": "ipython",
    "version": 3
   },
   "file_extension": ".py",
   "mimetype": "text/x-python",
   "name": "python",
   "nbconvert_exporter": "python",
   "pygments_lexer": "ipython3",
   "version": "3.7.3"
  }
 },
 "nbformat": 4,
 "nbformat_minor": 2
}
